{
 "cells": [
  {
   "cell_type": "code",
   "execution_count": null,
   "metadata": {
    "id": "5UPx8T-hum8I"
   },
   "outputs": [],
   "source": [
    "import pandas as pd\n",
    "import os\n",
    "from datetime import datetime"
   ]
  },
  {
   "cell_type": "code",
   "execution_count": null,
   "metadata": {
    "id": "dRxBGQKcum8P"
   },
   "outputs": [],
   "source": [
    "data_file = '_random_b/'"
   ]
  },
  {
   "cell_type": "code",
   "execution_count": null,
   "metadata": {
    "id": "Kd_PZ5E5um8U"
   },
   "outputs": [],
   "source": [
    "df = pd.concat([pd.read_json(data_file+f, encoding='utf_8_sig') for f in os.listdir(data_file)], axis=0, sort=False)"
   ]
  },
  {
   "cell_type": "code",
   "execution_count": null,
   "metadata": {
    "id": "k4kSz-4Zum8Z"
   },
   "outputs": [],
   "source": [
    "df['text_clean'] = df['text'].str.lower().str.replace('\\d+', '').str.replace('[<|>|@|:|#|//|\\|&|*|;]+|_', '').str.replace('[A-Za-z]+', '').str.strip()"
   ]
  },
  {
   "cell_type": "code",
   "execution_count": null,
   "metadata": {
    "id": "M8Jk0HlPum8e"
   },
   "outputs": [],
   "source": [
    "df['word_count'] = df['text_clean'].str.count(' ').add(1)"
   ]
  },
  {
   "cell_type": "code",
   "execution_count": null,
   "metadata": {
    "id": "0EY6MpeQum8i"
   },
   "outputs": [],
   "source": [
    "df_mes = df[(df['text_clean'] != '')\\\n",
    "            & (df['word_count']  <= 10)\\\n",
    "            & (df['text_clean'].str.contains(r'[а-яА-ЯёЁ]'))].copy()"
   ]
  },
  {
   "cell_type": "code",
   "execution_count": null,
   "metadata": {
    "id": "CTU8O3_fum8m"
   },
   "outputs": [],
   "source": [
    "with open('all.txt', 'w', encoding='utf_8_sig') as f:\n",
    "    for item in df_pairs['text_clean']:\n",
    "        f.write(\"%s\\n\" % item)"
   ]
  }
 ],
 "metadata": {
  "colab": {
   "name": "_random_b_data_cleaning.ipynb",
   "provenance": []
  },
  "kernelspec": {
   "display_name": "Python 3",
   "language": "python",
   "name": "python3"
  },
  "language_info": {
   "codemirror_mode": {
    "name": "ipython",
    "version": 3
   },
   "file_extension": ".py",
   "mimetype": "text/x-python",
   "name": "python",
   "nbconvert_exporter": "python",
   "pygments_lexer": "ipython3",
   "version": "3.8.3"
  }
 },
 "nbformat": 4,
 "nbformat_minor": 1
}
