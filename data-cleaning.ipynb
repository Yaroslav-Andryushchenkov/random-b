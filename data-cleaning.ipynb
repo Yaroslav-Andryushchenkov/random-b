{
  "nbformat": 4,
  "nbformat_minor": 0,
  "metadata": {
    "kernelspec": {
      "display_name": "Python 3",
      "language": "python",
      "name": "python3"
    },
    "language_info": {
      "codemirror_mode": {
        "name": "ipython",
        "version": 3
      },
      "file_extension": ".py",
      "mimetype": "text/x-python",
      "name": "python",
      "nbconvert_exporter": "python",
      "pygments_lexer": "ipython3",
      "version": "3.7.3"
    },
    "colab": {
      "name": "_random_b_data_cleaning.ipynb",
      "provenance": []
    }
  },
  "cells": [
    {
      "cell_type": "code",
      "metadata": {
        "id": "5UPx8T-hum8I"
      },
      "source": [
        "import pandas as pd\n",
        "import os\n",
        "from datetime import datetime"
      ],
      "execution_count": null,
      "outputs": []
    },
    {
      "cell_type": "code",
      "metadata": {
        "id": "dRxBGQKcum8P"
      },
      "source": [
        "#путь указать к директории, где лежит ноут\n",
        "os.chdir('/Users/Юлия/Documents/Python Scripts/04.10 ODS ML Challenge')\n",
        "\n",
        "# директория с исходниками\n",
        "data_file = '_random_b/'"
      ],
      "execution_count": null,
      "outputs": []
    },
    {
      "cell_type": "code",
      "metadata": {
        "id": "Kd_PZ5E5um8U"
      },
      "source": [
        "df = pd.concat([pd.read_json(data_file+f, encoding='utf_8_sig') for f in os.listdir(data_file)], axis=0, sort=False)"
      ],
      "execution_count": null,
      "outputs": []
    },
    {
      "cell_type": "code",
      "metadata": {
        "id": "k4kSz-4Zum8Z"
      },
      "source": [
        "#lowercase + удаляем спец символы + удалила пока англ буквы\n",
        "df['text_clean'] = df['text'].str.lower().str.replace('\\d+', '').str.replace('[<|>|@|:|#|//|\\|&|*|;]+|_', '').str.replace('[A-Za-z]+', '').str.strip()"
      ],
      "execution_count": null,
      "outputs": []
    },
    {
      "cell_type": "code",
      "metadata": {
        "id": "M8Jk0HlPum8e"
      },
      "source": [
        "#колво слов\n",
        "df['word_count'] = df['text_clean'].str.count(' ').add(1)"
      ],
      "execution_count": null,
      "outputs": []
    },
    {
      "cell_type": "code",
      "metadata": {
        "id": "0EY6MpeQum8i"
      },
      "source": [
        "#отобрала строчки короче 10 слов и содержащие кириллицу\n",
        "df_mes = df[(df['text_clean'] != '')\\\n",
        "            & (df['word_count']  <= 10)\\\n",
        "            & (df['text_clean'].str.contains(r'[а-яА-ЯёЁ]'))].copy()"
      ],
      "execution_count": null,
      "outputs": []
    },
    {
      "cell_type": "code",
      "metadata": {
        "id": "CTU8O3_fum8m"
      },
      "source": [
        "with open('all.txt', 'w', encoding='utf_8_sig') as f:\n",
        "    for item in df_pairs['text_clean']:\n",
        "        f.write(\"%s\\n\" % item)"
      ],
      "execution_count": null,
      "outputs": []
    }
  ]
}